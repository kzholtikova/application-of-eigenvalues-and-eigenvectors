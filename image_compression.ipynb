{
 "cells": [
  {
   "cell_type": "code",
   "id": "initial_id",
   "metadata": {
    "collapsed": true,
    "jupyter": {
     "is_executing": true
    }
   },
   "source": [
    "import numpy as np\n",
    "import matplotlib.pyplot as plt\n",
    "from matplotlib.image import imread\n",
    "import seaborn as sns\n",
    "import math\n",
    "import eigdec"
   ],
   "outputs": [],
   "execution_count": null
  },
  {
   "metadata": {
    "jupyter": {
     "is_executing": true
    }
   },
   "cell_type": "code",
   "source": [
    "sns.set_style(\"whitegrid\")\n",
    "sns.set_palette(sns.color_palette([\"green\"]))"
   ],
   "id": "5fa4b65797efaea8",
   "outputs": [],
   "execution_count": null
  },
  {
   "metadata": {
    "jupyter": {
     "is_executing": true
    }
   },
   "cell_type": "code",
   "source": [
    "# Load image\n",
    "img_raw = imread('src/shrek.jpeg')\n",
    "img_raw.shape  # (height, width, color channels)"
   ],
   "id": "16fc47c76d541c39",
   "outputs": [],
   "execution_count": null
  },
  {
   "metadata": {
    "jupyter": {
     "is_executing": true
    }
   },
   "cell_type": "code",
   "source": [
    "img_sum = img_raw.sum(axis=2)  # From 3 color channels to 1 (greyscale)\n",
    "img_bw = img_sum / img_sum.max()  # Normalize to [0, 1]\n",
    "*img_bw.shape, int(img_bw.max())  # (height, width, color channels)"
   ],
   "id": "8e19f3977b4691e0",
   "outputs": [],
   "execution_count": null
  },
  {
   "metadata": {
    "jupyter": {
     "is_executing": true
    }
   },
   "cell_type": "code",
   "source": [
    "plt.imshow(img_bw, cmap='gray')\n",
    "plt.grid(False)"
   ],
   "id": "e44155b99deca35b",
   "outputs": [],
   "execution_count": null
  },
  {
   "metadata": {
    "jupyter": {
     "is_executing": true
    }
   },
   "cell_type": "code",
   "source": [
    "img_mean = np.mean(img_bw, axis=0)\n",
    "img_centered = img_bw - img_mean  # Center the data\n",
    "covar_matrix = np.cov(img_centered, rowvar=False)  # Covariance matrix\n",
    "covar_eigenvalues, covar_eigenvectors = eigdec.find_eigenvalues_and_vectors(covar_matrix)  # Eigenvectors - components\n",
    "\n",
    "eigenvalues_var = (covar_eigenvalues / covar_eigenvalues.sum()) * 100  # Variance explained by each component\n",
    "cumulative_var = np.cumsum(eigenvalues_var)  # Cumulative variance explained by components\n",
    "opt_components_num = np.argmax(cumulative_var > 95)  # returns the 1st index with a value > 95\n",
    "\n",
    "sns.lineplot(x=[i for i in range(len(covar_eigenvectors))],y=cumulative_var)\n",
    "plt.scatter(opt_components_num, cumulative_var[opt_components_num], color='darkblue', s=75, zorder=3)\n",
    "plt.axvline(opt_components_num, color='darkblue', linestyle='--', alpha=0.5)\n",
    "plt.axhline(cumulative_var[opt_components_num], color='darkblue', linestyle='--', alpha=0.5)\n",
    "plt.title(\"Explained variance by number of components\")\n",
    "plt.xlabel(\"Number of principal components\")\n",
    "plt.ylabel(\"Cumulative explained variance\")"
   ],
   "id": "4bac3a7c4293f852",
   "outputs": [],
   "execution_count": null
  },
  {
   "metadata": {
    "jupyter": {
     "is_executing": true
    }
   },
   "cell_type": "code",
   "source": "opt_components_num  # number of components that explain 95% of the variance",
   "id": "2cc614c9858e8676",
   "outputs": [],
   "execution_count": null
  },
  {
   "metadata": {
    "jupyter": {
     "is_executing": true
    }
   },
   "cell_type": "code",
   "source": [
    "sorting_indices = np.argsort(covar_eigenvalues)[::-1]  # descending order\n",
    "sorted_covar_eigenvectors = covar_eigenvectors[sorting_indices]\n",
    "principal_components_opt = sorted_covar_eigenvectors[:, :opt_components_num]\n",
    "\n",
    "reconstruct_img = lambda components: np.dot(np.dot(components.T, img_centered.T).T, components.T) + img_mean"
   ],
   "id": "8f1120b879801351",
   "outputs": [],
   "execution_count": null
  },
  {
   "metadata": {
    "jupyter": {
     "is_executing": true
    }
   },
   "cell_type": "code",
   "source": [
    "grid_size = math.ceil(math.sqrt(img_bw.shape[1] / opt_components_num))\n",
    "fig = plt.figure(figsize=(15, 15))\n",
    "\n",
    "components_num = opt_components_num\n",
    "for i in range(grid_size):\n",
    "    img_reconstructed = reconstruct_img(sorted_covar_eigenvectors[:, :components_num])\n",
    "    plt.subplot(grid_size, grid_size, i + 1)\n",
    "    plt.imshow(img_reconstructed, cmap='gray')\n",
    "    plt.title(f\"Number of components: {components_num}\")\n",
    "    plt.grid(False)\n",
    "\n",
    "    components_num *= 2\n",
    "\n",
    "plt.tight_layout()\n",
    "plt.show()"
   ],
   "id": "e65b959415138b61",
   "outputs": [],
   "execution_count": null
  }
 ],
 "metadata": {
  "kernelspec": {
   "display_name": "Python 3",
   "language": "python",
   "name": "python3"
  },
  "language_info": {
   "codemirror_mode": {
    "name": "ipython",
    "version": 2
   },
   "file_extension": ".py",
   "mimetype": "text/x-python",
   "name": "python",
   "nbconvert_exporter": "python",
   "pygments_lexer": "ipython2",
   "version": "2.7.6"
  }
 },
 "nbformat": 4,
 "nbformat_minor": 5
}
